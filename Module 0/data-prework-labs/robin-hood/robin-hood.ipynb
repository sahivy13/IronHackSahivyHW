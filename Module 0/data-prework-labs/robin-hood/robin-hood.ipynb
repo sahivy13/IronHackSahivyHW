{
 "cells": [
  {
   "cell_type": "markdown",
   "metadata": {},
   "source": [
    "# Robin Hood:\n",
    "We are in a competition to win the archery contest in Sherwood. With our bow and arrows we shoot on a target and try to hit as close as possible to the center.\n",
    "\n",
    "The center of the target is represented by the values (0, 0) on the coordinate axes.\n",
    "\n",
    "![](images/arrows.jpg)\n",
    "\n",
    "## Goals:\n",
    "* data structures: lists, sets, tuples\n",
    "* logical operators: if-elif-else\n",
    "* loop: while/for\n",
    "* minimum (optional sorting)\n",
    "\n",
    "## Description:\n",
    "In the 2-dimensional space, a point can be defined by a pair of values that correspond to the horizontal coordinate (x) and the vertical coordinate (y). The space can be divided into 4 zones (quadrants): Q1, Q2, Q3, Q4. Whose single point of union is the point (0, 0).\n",
    "\n",
    "If a point is in Q1 both its x coordinate and the y are positive. I leave a link to wikipedia to familiarize yourself with these quadrants.\n",
    "\n",
    "https://en.wikipedia.org/wiki/Cartesian_coordinate_system\n",
    "\n",
    "https://en.wikipedia.org/wiki/Euclidean_distance\n",
    "\n",
    "## Shots\n",
    "```\n",
    "points = [(4, 5), (-0, 2), (4, 7), (1, -3), (3, -2), (4, 5),\n",
    "          (3, 2), (5, 7), (-5, 7), (2, 2), (-4, 5), (0, -2),\n",
    "          (-4, 7), (-1, 3), (-3, 2), (-4, -5), (-3, 2),\n",
    "          (5, 7), (5, 7), (2, 2), (9, 9), (-8, -9)]\n",
    "```\n",
    "\n",
    "## Tasks\n",
    "1. Robin Hood is famous for hitting an arrow with another arrow. Did you get it?\n",
    "2. Calculate how many arrows have fallen in each quadrant.\n",
    "3. Find the point closest to the center. Calculate its distance to the center. \n",
    "4. If the target has a radius of 9, calculate the number of arrows that must be picked up in the forest."
   ]
  },
  {
   "cell_type": "code",
   "execution_count": 1,
   "metadata": {},
   "outputs": [],
   "source": [
    "# Variables\n",
    "\n",
    "points = [(4, 5), (-0, 2), (4, 7), (1, -3), (3, -2), (4, 5),\n",
    "          (3, 2), (5, 7), (-5, 7), (2, 2), (-4, 5), (0, -2),\n",
    "          (-4, 7), (-1, 3), (-3, 2), (-4, -5), (-3, 2),\n",
    "          (5, 7), (5, 7), (2, 2), (9, 9), (-8, -9)]\n",
    "\n",
    "Q1 = 0\n",
    "Q2 = 0\n",
    "Q3 = 0\n",
    "Q4 = 0\n",
    "x_int = 0\n",
    "y_int = 0"
   ]
  },
  {
   "cell_type": "code",
   "execution_count": 2,
   "metadata": {},
   "outputs": [
    {
     "name": "stdout",
     "output_type": "stream",
     "text": [
      "[(-8, -9), (-5, 7), (-4, -5), (-4, 5), (-4, 7), (-3, 2), (-3, 2), (-1, 3), (0, -2), (0, 2), (1, -3), (2, 2), (2, 2), (3, -2), (3, 2), (4, 5), (4, 5), (4, 7), (5, 7), (5, 7), (5, 7), (9, 9)]\n"
     ]
    }
   ],
   "source": [
    "# 1. Robin Hood is famous for hitting an arrow with another arrow. Did you get it?\n",
    "\n",
    "points.sort()\n",
    "print(points)"
   ]
  },
  {
   "cell_type": "code",
   "execution_count": 3,
   "metadata": {},
   "outputs": [
    {
     "name": "stdout",
     "output_type": "stream",
     "text": [
      "10 arrows have fallen in quadrant 1\n",
      "2 arrows have fallen in quadrant 2\n",
      "2 arrows have fallen in quadrent 3\n",
      "6 arrows have fallen in quadrent 4\n",
      "2 arrows have fallen right on the x axis line\n",
      "0 arrows have fallen right on the y axis line\n"
     ]
    }
   ],
   "source": [
    "# 2. Calculate how many arrows have fallen in each quadrant.\n",
    "for x, y in points:\n",
    "    if x > 0 and y > 0:\n",
    "        Q1 += 1\n",
    "    elif x > 0 and y < 0:\n",
    "        Q2 += 1\n",
    "    elif x < 0 and y < 0:\n",
    "        Q3 += 1\n",
    "    elif x < 0 and y > 0:\n",
    "        Q4 += 1\n",
    "    elif x == 0:\n",
    "        x_int += 1\n",
    "    elif y == 0:\n",
    "        y_int += 1\n",
    "        \n",
    "print (Q1,'arrows have fallen in quadrant 1')\n",
    "print (Q2,'arrows have fallen in quadrant 2')\n",
    "print (Q3,'arrows have fallen in quadrent 3')\n",
    "print (Q4,'arrows have fallen in quadrent 4')\n",
    "print (x_int,'arrows have fallen right on the x axis line')\n",
    "print (y_int,'arrows have fallen right on the y axis line')\n",
    "\n"
   ]
  },
  {
   "cell_type": "code",
   "execution_count": 4,
   "metadata": {},
   "outputs": [
    {
     "name": "stdout",
     "output_type": "stream",
     "text": [
      "the closest arrow to the center is at a radius of 2.0 from the center.\n"
     ]
    }
   ],
   "source": [
    "# 3. Find the point closest to the center. Calculate its distance to the center\n",
    "# Defining a function that calculates the distance to the center can help.\n",
    "import math\n",
    "\n",
    "list_r = []\n",
    "r_2 = 0\n",
    "r = 0\n",
    "\n",
    "for x, y in points:\n",
    "    r_2 = x**2 + y**2\n",
    "    r = math.sqrt(r_2)\n",
    "    list_r.append(r)\n",
    "    \n",
    "print ('the closest arrow to the center is at a radius of', min(list_r),'from the center.')\n",
    "\n"
   ]
  },
  {
   "cell_type": "code",
   "execution_count": 5,
   "metadata": {},
   "outputs": [
    {
     "name": "stdout",
     "output_type": "stream",
     "text": [
      "there are 20 arrows in the target, and 2 arrows have to be picked up in the forrest.\n"
     ]
    }
   ],
   "source": [
    "# 4. If the target has a radius of 9, calculate the number of arrows that \n",
    "# must be picked up in the forest.\n",
    "arrows_in = 0\n",
    "arrows_out = 0\n",
    "\n",
    "for i in list_r:\n",
    "    if i > 9:\n",
    "        arrows_out += 1\n",
    "    else:\n",
    "        arrows_in += 1\n",
    "\n",
    "print ('there are',arrows_in,'arrows in the target, and',arrows_out,'arrows have to be picked up in the forrest.')\n",
    "\n"
   ]
  },
  {
   "cell_type": "code",
   "execution_count": null,
   "metadata": {},
   "outputs": [],
   "source": [
    "\n",
    "\n",
    "\n",
    "    \n",
    "        "
   ]
  },
  {
   "cell_type": "code",
   "execution_count": null,
   "metadata": {},
   "outputs": [],
   "source": []
  },
  {
   "cell_type": "code",
   "execution_count": null,
   "metadata": {},
   "outputs": [],
   "source": []
  }
 ],
 "metadata": {
  "kernelspec": {
   "display_name": "Python 3",
   "language": "python",
   "name": "python3"
  },
  "language_info": {
   "codemirror_mode": {
    "name": "ipython",
    "version": 3
   },
   "file_extension": ".py",
   "mimetype": "text/x-python",
   "name": "python",
   "nbconvert_exporter": "python",
   "pygments_lexer": "ipython3",
   "version": "3.7.3"
  }
 },
 "nbformat": 4,
 "nbformat_minor": 2
}
