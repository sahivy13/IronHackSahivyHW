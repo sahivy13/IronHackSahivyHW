{
 "cells": [
  {
   "cell_type": "markdown",
   "metadata": {},
   "source": [
    "# Snail and well\n",
    "\n",
    "A snail falls at the bottom of a 125 cm well. Each day the snail rises 30 cm. But at night, while sleeping, slides 20 cm because the walls are wet. How many days does it take to escape from the well?\n",
    "\n",
    "TIP: http://puzzles.nigelcoldwell.co.uk/sixtytwo.htm"
   ]
  },
  {
   "cell_type": "markdown",
   "metadata": {},
   "source": [
    "## Solución"
   ]
  },
  {
   "cell_type": "code",
   "execution_count": 1,
   "metadata": {},
   "outputs": [],
   "source": [
    "# Assign problem data to variables with representative names\n",
    "# well height, daily advance, night retreat, accumulated distance\n",
    "\n",
    "h = 125 #height\n",
    "da = 30 #daily advance\n",
    "nr = 20 #night retreat\n",
    "ad = 0  #accumulated distance\n",
    "\n",
    "# Assign 0 to the variable that represents the solution\n",
    "\n",
    "days = 0\n",
    "\n",
    "# Write the code that solves the problem\n",
    "\n",
    "while ad < h:\n",
    "    days = days + 1\n",
    "    ad = ad + da - nr\n",
    "    if ad > h:\n",
    "        print('Days =', days)\n",
    "    else:\n",
    "        continue\n",
    "\n",
    "# Print the result with print('Days =', days)\n"
   ]
  },
  {
   "cell_type": "markdown",
   "metadata": {},
   "source": [
    "## Goals\n",
    "\n",
    "1. Treatment of variables\n",
    "2. Use of loop **while**\n",
    "3. Use of conditional **if-else**\n",
    "4. Print in console"
   ]
  },
  {
   "cell_type": "markdown",
   "metadata": {},
   "source": [
    "## Bonus\n",
    "The distance traveled by the snail is now defined by a list.\n",
    "```\n",
    "advance_cm = [30, 21, 33, 77, 44, 45, 23, 45, 12, 34, 55]\n",
    "```\n",
    "How long does it take to raise the well?\n",
    "\n",
    "What is its maximum displacement in one day? And its minimum?\n",
    "\n",
    "What is its average speed during the day?\n",
    "\n",
    "What is the standard deviation of its displacement during the day?"
   ]
  },
  {
   "cell_type": "code",
   "execution_count": 2,
   "metadata": {},
   "outputs": [
    {
     "name": "stdout",
     "output_type": "stream",
     "text": [
      "Days = 6\n",
      "maximum displacement = 57\n",
      "average progress = 21.666666666666668\n",
      "standard deviation =  17.81073334319006\n"
     ]
    }
   ],
   "source": [
    "import math\n",
    "\n",
    "# Assign problem data to variables with representative names\n",
    "# well height, daily advance, night retreat, accumulated distance\n",
    "\n",
    "h = 125 #height\n",
    "da= [30, 21, 33, 77, 44, 45, 23, 45, 12, 34, 55] #daily advance\n",
    "i=0\n",
    "nr = 20 #night retreat\n",
    "ad = 0  #accumulated distance\n",
    "dl = [] #displacement list\n",
    "\n",
    "\n",
    "# Assign 0 to the variable that represents the solution\n",
    "\n",
    "days = 0\n",
    "total_sum = 0\n",
    "\n",
    "# Write the code that solves the problem\n",
    "\n",
    "while ad < h:\n",
    "    days += 1\n",
    "    ad = ad + da[i] - nr\n",
    "    d = da[i] - nr\n",
    "    dl.append(d)\n",
    "    i+= 1\n",
    "    \n",
    "    if ad > h:\n",
    "        print('Days =', days)\n",
    "        print('maximum displacement =', max(dl))\n",
    "        print('average progress =', ad/days)   \n",
    "\n",
    "m = ad/days\n",
    "\n",
    "for i in range(len(dl)):\n",
    "    \n",
    "    total_sum += (dl[i] - m)**2\n",
    "    \n",
    "under_root = total_sum*1.0/len(dl)\n",
    "\n",
    "print('standard deviation = ', math.sqrt(under_root))\n",
    "\n",
    "        \n",
    "\n",
    "# Print the result with print('Days =', days)\n",
    "\n",
    "\n",
    "# What is its maximum displacement in a day? And its minimum?\n",
    "\n",
    "\n",
    "\n",
    "# What is its average progress?\n",
    "\n",
    "\n",
    "# What is the standard deviation of your displacement during the day?\n",
    "\n"
   ]
  },
  {
   "cell_type": "code",
   "execution_count": null,
   "metadata": {},
   "outputs": [],
   "source": []
  }
 ],
 "metadata": {
  "kernelspec": {
   "display_name": "Python 3",
   "language": "python",
   "name": "python3"
  },
  "language_info": {
   "codemirror_mode": {
    "name": "ipython",
    "version": 3
   },
   "file_extension": ".py",
   "mimetype": "text/x-python",
   "name": "python",
   "nbconvert_exporter": "python",
   "pygments_lexer": "ipython3",
   "version": "3.7.3"
  }
 },
 "nbformat": 4,
 "nbformat_minor": 2
}
