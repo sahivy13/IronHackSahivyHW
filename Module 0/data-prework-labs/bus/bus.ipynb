{
 "cells": [
  {
   "cell_type": "markdown",
   "metadata": {},
   "source": [
    "# Bus\n",
    "\n",
    "This bus has a passenger entry and exit control system to monitor the number of occupants it carries and thus detect when there is too high a capacity.\n",
    "\n",
    "At each stop the entry and exit of passengers is represented by a tuple consisting of two integer numbers.\n",
    "```\n",
    "bus_stop = (in, out)\n",
    "```\n",
    "The succession of stops is represented by a list of these tuples.\n",
    "```\n",
    "stops = [(in1, out1), (in2, out2), (in3, out3), (in4, out4)]\n",
    "```\n",
    "\n",
    "## Goals:\n",
    "* lists, tuples\n",
    "* while/for loops\n",
    "* minimum, maximum, length\n",
    "* average, standard deviation\n",
    "\n",
    "## Tasks\n",
    "1. Calculate the number of stops.\n",
    "2. Assign to a variable a list whose elements are the number of passengers at each stop (in-out),\n",
    "3. Find the maximum occupation of the bus.\n",
    "4. Calculate the average occupation. And the standard deviation.\n"
   ]
  },
  {
   "cell_type": "code",
   "execution_count": 1,
   "metadata": {},
   "outputs": [],
   "source": [
    "# variables\n",
    "stops = [(3,0),(3,2),(1,2),(4,1)]\n",
    "\n",
    "num_pass = 0\n",
    "list_num_pass = []\n",
    "\n"
   ]
  },
  {
   "cell_type": "code",
   "execution_count": 2,
   "metadata": {},
   "outputs": [
    {
     "name": "stdout",
     "output_type": "stream",
     "text": [
      "the number of stops is 4\n"
     ]
    }
   ],
   "source": [
    "# 1. Calculate the number of stops.\n",
    "\n",
    "num_stops = len(stops)\n",
    "print ('the number of stops is',num_stops)\n"
   ]
  },
  {
   "cell_type": "code",
   "execution_count": 3,
   "metadata": {},
   "outputs": [
    {
     "name": "stdout",
     "output_type": "stream",
     "text": [
      "the following list is the occupation in the bus at each stop: [3, 4, 3, 6]\n"
     ]
    }
   ],
   "source": [
    "# 2. Assign a variable a list whose elements are the number of passengers in each stop: \n",
    "# Each item depends on the previous item in the list + in - out.\n",
    "\n",
    "for on, off in stops:\n",
    "\n",
    "    num_pass += on - off\n",
    "    list_num_pass.append(num_pass)\n",
    "\n",
    "print ('the following list is the occupation in the bus at each stop:',list_num_pass)\n",
    "\n",
    "\n",
    "    \n",
    "\n",
    "\n"
   ]
  },
  {
   "cell_type": "code",
   "execution_count": 4,
   "metadata": {},
   "outputs": [
    {
     "name": "stdout",
     "output_type": "stream",
     "text": [
      "the maximum amount of passengers at any stop is 6\n"
     ]
    }
   ],
   "source": [
    "# 3. Find the maximum occupation of the bus.\n",
    "print('the maximum amount of passengers at any stop is',max(list_num_pass))\n",
    "\n"
   ]
  },
  {
   "cell_type": "code",
   "execution_count": 5,
   "metadata": {},
   "outputs": [
    {
     "name": "stdout",
     "output_type": "stream",
     "text": [
      "the average is 4.0\n",
      "the standard deviation is 1.8957188610128877\n"
     ]
    }
   ],
   "source": [
    "# 4. Calculate the average occupation. And the standard deviation.\n",
    "import math\n",
    "\n",
    "occ = 0\n",
    "average = 0\n",
    "total_sum = 0\n",
    "\n",
    "for i in range(len(list_num_pass)):\n",
    "    \n",
    "    occ += list_num_pass[i]\n",
    "    average = occ/len(list_num_pass)\n",
    "    total_sum += (list_num_pass[i] - average)**2\n",
    "\n",
    "under_root = total_sum*1.0/len(list_num_pass)\n",
    "    \n",
    "\n",
    "print ('the average is',average)\n",
    "print ('the standard deviation is',math.sqrt(under_root))\n"
   ]
  },
  {
   "cell_type": "code",
   "execution_count": null,
   "metadata": {},
   "outputs": [],
   "source": []
  },
  {
   "cell_type": "code",
   "execution_count": null,
   "metadata": {},
   "outputs": [],
   "source": []
  }
 ],
 "metadata": {
  "kernelspec": {
   "display_name": "Python 3",
   "language": "python",
   "name": "python3"
  },
  "language_info": {
   "codemirror_mode": {
    "name": "ipython",
    "version": 3
   },
   "file_extension": ".py",
   "mimetype": "text/x-python",
   "name": "python",
   "nbconvert_exporter": "python",
   "pygments_lexer": "ipython3",
   "version": "3.7.3"
  }
 },
 "nbformat": 4,
 "nbformat_minor": 2
}
